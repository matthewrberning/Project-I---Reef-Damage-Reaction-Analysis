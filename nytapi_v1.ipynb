{
 "cells": [
  {
   "cell_type": "code",
   "execution_count": 20,
   "metadata": {},
   "outputs": [],
   "source": [
    "# Dependencies\n",
    "import requests\n",
    "from pprint import pprint\n",
    "import time\n",
    "# from config import api_key\n",
    "\n",
    "api_key = \"3c3fedda5faa4fedbd69212bbb25f112\"\n",
    "\n",
    "url = \"https://api.nytimes.com/svc/search/v2/articlesearch.json?\"\n",
    "\n",
    "# Store a search term\n",
    "query = \"reef\"\n",
    "\n",
    "# Search for articles published between a begin and end date\n",
    "begin_date = \"20160101\"\n",
    "end_date = \"20161201\"\n",
    "\n",
    "query_url = f\"{url}api-key={api_key}&q={query}&begin_date={begin_date}&end_date={end_date}\""
   ]
  },
  {
   "cell_type": "code",
   "execution_count": 21,
   "metadata": {},
   "outputs": [
    {
     "name": "stdout",
     "output_type": "stream",
     "text": [
      "A snippet from the article: A NASA flying laboratory is using a specially designed sensor in a search for answers about what is killing large sections of the world’s coral reefs.\n",
      "A snippet from the article: About two-thirds of the shallow-water coral on the reef’s previously pristine, 430-mile northern stretch was dead, researchers reported.\n",
      "A snippet from the article: Devastated by unusually warm water in the Pacific, the reef is splashed with colors again, providing hope for reviving coral elsewhere.\n",
      "A snippet from the article: The Australian government reached a 39.3 million Australian dollar ($29.6 million) settlement with the owners of a Chinese coal carrier to pay for environmental damage caused when the ship ran aground on the Great Barrier Reef six years ago, the e...\n",
      "A snippet from the article: Current bleaching along the Australian reef is the most extreme ever recorded, although researchers say damage in the south appears to be less severe.\n",
      "A snippet from the article: Trained in the skills of sea power, Pi the fish can fight a shark, sink a squid or batter any random predator that ever threatens his friends and neighbors on the reef. Unfortunately, being the only hero in town can take its toll, especially when ...\n",
      "A snippet from the article: Thomas Mathews, an investigative journalist whose world is turned upside-down when his son disappears, is sent to Brazil to investigate close encounter sightings.\n",
      "A snippet from the article: An ode to surfing, by the Australian Mick Sowry, with a varied suite of works as accompaniment, instead of dialogue or a film score.\n",
      "A snippet from the article: Splash into a Whole New Monster High™ World! Join your favorite ghoulfriends in an all-new aquatic adventure! When the ghouls get pulled into the school pool, they're transported to the gore-geous underwater world of the Great Scarrier Reef. Lagoo...\n",
      "A snippet from the article: Scientists are racing to understand the bizarre reproduction rites of coral as declining water quality and climate change devastate reefs worldwide.\n"
     ]
    }
   ],
   "source": [
    "# Retrieve articles\n",
    "articles = requests.get(query_url).json()\n",
    "articles_list = [article for article in articles[\"response\"][\"docs\"]]\n",
    "\n",
    "for article in articles_list:\n",
    "    print(f'A snippet from the article: {article[\"snippet\"]}')"
   ]
  },
  {
   "cell_type": "code",
   "execution_count": 26,
   "metadata": {},
   "outputs": [],
   "source": [
    "# Emply list for articles\n",
    "articles_list = []\n",
    "\n",
    "# loop through pages 0-2\n",
    "for page in range(0, 40):\n",
    "    query_url = f\"{url}api-key={api_key}&q={query}&begin_date={begin_date}&end_date={end_date}\"\n",
    "    # create query with page number\n",
    "    query_url = f\"{query_url}&page={str(page)}\"\n",
    "    articles = requests.get(query_url).json()\n",
    "    \n",
    "    # Add a one second interval between queries to stay within API query limits\n",
    "    time.sleep(1)\n",
    "    # loop through the response and append each article to the list\n",
    "    for article in articles[\"response\"][\"docs\"]:\n",
    "        articles_list.append(article)"
   ]
  },
  {
   "cell_type": "code",
   "execution_count": 27,
   "metadata": {},
   "outputs": [
    {
     "name": "stdout",
     "output_type": "stream",
     "text": [
      "274\n"
     ]
    }
   ],
   "source": [
    "print(len(articles_list))"
   ]
  },
  {
   "cell_type": "code",
   "execution_count": null,
   "metadata": {},
   "outputs": [],
   "source": []
  }
 ],
 "metadata": {
  "kernelspec": {
   "display_name": "Python 3",
   "language": "python",
   "name": "python3"
  },
  "language_info": {
   "codemirror_mode": {
    "name": "ipython",
    "version": 3
   },
   "file_extension": ".py",
   "mimetype": "text/x-python",
   "name": "python",
   "nbconvert_exporter": "python",
   "pygments_lexer": "ipython3",
   "version": "3.6.5"
  }
 },
 "nbformat": 4,
 "nbformat_minor": 2
}
